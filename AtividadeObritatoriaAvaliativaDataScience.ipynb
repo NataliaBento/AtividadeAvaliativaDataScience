{
 "cells": [
  {
   "cell_type": "markdown",
   "id": "78ac6c46",
   "metadata": {},
   "source": [
    "##Criando e Salvando dados em excel"
   ]
  },
  {
   "cell_type": "code",
   "execution_count": 1,
   "id": "f9a689d6",
   "metadata": {},
   "outputs": [
    {
     "name": "stdout",
     "output_type": "stream",
     "text": [
      "Arquivo 'vendas.xlsx' criado com sucesso!\n"
     ]
    }
   ],
   "source": [
    "import pandas as pd\n",
    "import numpy as np\n",
    "\n",
    "# Criar DataFrame \n",
    "data = {\n",
    "    \"Região\": [\"Norte\", \"Norte\", \"Sul\", \"Sul\", \"Norte\"],\n",
    "    \"Mês\": [\"Jan\", \"Fev\", \"Jan\", \"Fev\", \"Mar\"],\n",
    "    \"Vendas\": [1500, np.nan, 2200, 1800, 2000],\n",
    "    \"Despesas\": [300, 250, np.nan, 400, 350]\n",
    "}\n",
    "\n",
    "df = pd.DataFrame(data)\n",
    "\n",
    "# Salvar em Excel\n",
    "df.to_excel(\"vendas.xlsx\", index=False, engine=\"openpyxl\")\n",
    "\n",
    "print(\"Arquivo 'vendas.xlsx' criado com sucesso!\")"
   ]
  },
  {
   "cell_type": "markdown",
   "id": "b182d41e",
   "metadata": {},
   "source": [
    "##lê os arquivos Excel"
   ]
  },
  {
   "cell_type": "code",
   "execution_count": 2,
   "id": "7da9ac8f",
   "metadata": {},
   "outputs": [
    {
     "name": "stdout",
     "output_type": "stream",
     "text": [
      "  Região  Mês  Vendas  Despesas\n",
      "0  Norte  Jan  1500.0     300.0\n",
      "1  Norte  Fev     NaN     250.0\n",
      "2    Sul  Jan  2200.0       NaN\n",
      "3    Sul  Fev  1800.0     400.0\n",
      "4  Norte  Mar  2000.0     350.0\n"
     ]
    }
   ],
   "source": [
    "import pandas as pd\n",
    "\n",
    "df = pd.read_excel(\"vendas.xlsx\", engine=\"openpyxl\")\n",
    "\n",
    "# Visualizando os dados\n",
    "print(df)\n"
   ]
  },
  {
   "cell_type": "markdown",
   "id": "498d227c",
   "metadata": {},
   "source": [
    "##Calculando mediana na coluna \"vendas\" e \"despesas\""
   ]
  },
  {
   "cell_type": "code",
   "execution_count": 3,
   "id": "6429597c",
   "metadata": {},
   "outputs": [
    {
     "name": "stdout",
     "output_type": "stream",
     "text": [
      "Mediana das Vendas: 1900.0\n",
      "Média das Despesas: 325.0\n"
     ]
    }
   ],
   "source": [
    "\n",
    "mediana_vendas = df[\"Vendas\"].median()\n",
    "print(\"Mediana das Vendas:\", mediana_vendas)\n",
    "\n",
    "\n",
    "media_despesas = df[\"Despesas\"].mean()\n",
    "print(\"Média das Despesas:\", media_despesas)"
   ]
  },
  {
   "cell_type": "markdown",
   "id": "6de386c3",
   "metadata": {},
   "source": [
    "##substituindo Nan em \"vendas\" e em \"despesas\" pelas respectivas mediana e média"
   ]
  },
  {
   "cell_type": "code",
   "execution_count": 4,
   "id": "cd6c2b21",
   "metadata": {},
   "outputs": [
    {
     "name": "stdout",
     "output_type": "stream",
     "text": [
      "  Região  Mês  Vendas  Despesas\n",
      "0  Norte  Jan  1500.0     300.0\n",
      "1  Norte  Fev  1900.0     250.0\n",
      "2    Sul  Jan  2200.0     325.0\n",
      "3    Sul  Fev  1800.0     400.0\n",
      "4  Norte  Mar  2000.0     350.0\n"
     ]
    }
   ],
   "source": [
    "\n",
    "df[\"Vendas\"] = df[\"Vendas\"].fillna(mediana_vendas)\n",
    "\n",
    "df[\"Despesas\"] = df[\"Despesas\"].fillna(media_despesas)\n",
    "\n",
    "print(df)"
   ]
  },
  {
   "cell_type": "markdown",
   "id": "97d75b89",
   "metadata": {},
   "source": [
    "##soma das vendas por região"
   ]
  },
  {
   "cell_type": "code",
   "execution_count": 5,
   "id": "bcfd5192",
   "metadata": {},
   "outputs": [
    {
     "name": "stdout",
     "output_type": "stream",
     "text": [
      "Soma total de Vendas por Região\n",
      "Região\n",
      "Norte    5400.0\n",
      "Sul      4000.0\n",
      "Name: Vendas, dtype: float64\n"
     ]
    }
   ],
   "source": [
    "soma_vendas = df.groupby([\"Região\"])[\"Vendas\"].sum()\n",
    "print(\"Soma total de Vendas por Região\")\n",
    "print(soma_vendas)"
   ]
  },
  {
   "cell_type": "markdown",
   "id": "fdc4f521",
   "metadata": {},
   "source": [
    "##soma das vendas por mês"
   ]
  },
  {
   "cell_type": "code",
   "execution_count": 6,
   "id": "11baf930",
   "metadata": {},
   "outputs": [
    {
     "name": "stdout",
     "output_type": "stream",
     "text": [
      "Soma total de Vendas por Mês\n",
      "Mês\n",
      "Fev    3700.0\n",
      "Jan    3700.0\n",
      "Mar    2000.0\n",
      "Name: Vendas, dtype: float64\n"
     ]
    }
   ],
   "source": [
    "soma_vendas = df.groupby([\"Mês\"])[\"Vendas\"].sum()\n",
    "print(\"Soma total de Vendas por Mês\")\n",
    "print(soma_vendas)"
   ]
  },
  {
   "cell_type": "markdown",
   "id": "d8a07b5b",
   "metadata": {},
   "source": [
    "##média de despesas por região"
   ]
  },
  {
   "cell_type": "code",
   "execution_count": 7,
   "id": "330a88bd",
   "metadata": {},
   "outputs": [
    {
     "name": "stdout",
     "output_type": "stream",
     "text": [
      "\n",
      "Média de Despesas por Região\n",
      "Região\n",
      "Norte    300.0\n",
      "Sul      362.5\n",
      "Name: Despesas, dtype: float64\n"
     ]
    }
   ],
   "source": [
    "# Média de despesas por região\n",
    "\n",
    "media_despesas = df.groupby([\"Região\"])[\"Despesas\"].mean()\n",
    "print(\"\\nMédia de Despesas por Região\")\n",
    "print(media_despesas)"
   ]
  },
  {
   "cell_type": "markdown",
   "id": "38fbdab5",
   "metadata": {},
   "source": [
    "##media das despesas por mês"
   ]
  },
  {
   "cell_type": "code",
   "execution_count": 8,
   "id": "cc4020af",
   "metadata": {},
   "outputs": [
    {
     "name": "stdout",
     "output_type": "stream",
     "text": [
      "\n",
      "Média de Despesas por Mês\n",
      "Mês\n",
      "Fev    325.0\n",
      "Jan    312.5\n",
      "Mar    350.0\n",
      "Name: Despesas, dtype: float64\n"
     ]
    }
   ],
   "source": [
    "media_despesas = df.groupby([\"Mês\"])[\"Despesas\"].mean()\n",
    "print(\"\\nMédia de Despesas por Mês\")\n",
    "print(media_despesas)"
   ]
  },
  {
   "cell_type": "markdown",
   "id": "0332c763",
   "metadata": {},
   "source": [
    "##agrupando horizontalmente"
   ]
  },
  {
   "cell_type": "code",
   "execution_count": 10,
   "id": "9d00d983",
   "metadata": {},
   "outputs": [
    {
     "name": "stdout",
     "output_type": "stream",
     "text": [
      "   Vendas  Despesas\n",
      "0  1500.0     300.0\n",
      "1  1900.0     250.0\n",
      "2  2200.0     325.0\n",
      "3  1800.0     400.0\n",
      "4  2000.0     350.0\n"
     ]
    },
    {
     "data": {
      "text/html": [
       "<div>\n",
       "<style scoped>\n",
       "    .dataframe tbody tr th:only-of-type {\n",
       "        vertical-align: middle;\n",
       "    }\n",
       "\n",
       "    .dataframe tbody tr th {\n",
       "        vertical-align: top;\n",
       "    }\n",
       "\n",
       "    .dataframe thead th {\n",
       "        text-align: right;\n",
       "    }\n",
       "</style>\n",
       "<table border=\"1\" class=\"dataframe\">\n",
       "  <thead>\n",
       "    <tr style=\"text-align: right;\">\n",
       "      <th></th>\n",
       "      <th>Vendas</th>\n",
       "      <th>Despesas</th>\n",
       "    </tr>\n",
       "  </thead>\n",
       "  <tbody>\n",
       "    <tr>\n",
       "      <th>count</th>\n",
       "      <td>5.000000</td>\n",
       "      <td>5.000000</td>\n",
       "    </tr>\n",
       "    <tr>\n",
       "      <th>mean</th>\n",
       "      <td>1880.000000</td>\n",
       "      <td>325.000000</td>\n",
       "    </tr>\n",
       "    <tr>\n",
       "      <th>std</th>\n",
       "      <td>258.843582</td>\n",
       "      <td>55.901699</td>\n",
       "    </tr>\n",
       "    <tr>\n",
       "      <th>min</th>\n",
       "      <td>1500.000000</td>\n",
       "      <td>250.000000</td>\n",
       "    </tr>\n",
       "    <tr>\n",
       "      <th>25%</th>\n",
       "      <td>1800.000000</td>\n",
       "      <td>300.000000</td>\n",
       "    </tr>\n",
       "    <tr>\n",
       "      <th>50%</th>\n",
       "      <td>1900.000000</td>\n",
       "      <td>325.000000</td>\n",
       "    </tr>\n",
       "    <tr>\n",
       "      <th>75%</th>\n",
       "      <td>2000.000000</td>\n",
       "      <td>350.000000</td>\n",
       "    </tr>\n",
       "    <tr>\n",
       "      <th>max</th>\n",
       "      <td>2200.000000</td>\n",
       "      <td>400.000000</td>\n",
       "    </tr>\n",
       "  </tbody>\n",
       "</table>\n",
       "</div>"
      ],
      "text/plain": [
       "            Vendas    Despesas\n",
       "count     5.000000    5.000000\n",
       "mean   1880.000000  325.000000\n",
       "std     258.843582   55.901699\n",
       "min    1500.000000  250.000000\n",
       "25%    1800.000000  300.000000\n",
       "50%    1900.000000  325.000000\n",
       "75%    2000.000000  350.000000\n",
       "max    2200.000000  400.000000"
      ]
     },
     "execution_count": 10,
     "metadata": {},
     "output_type": "execute_result"
    }
   ],
   "source": [
    "import numpy as np\n",
    "\n",
    "vendas_despesas_hstack = np.hstack([\n",
    "    df[\"Vendas\"].values.reshape(-1, 1),\n",
    "    df[\"Despesas\"].values.reshape(-1, 1)\n",
    "])\n",
    "\n",
    "df_hstack = pd.DataFrame(vendas_despesas_hstack, columns=[\"Vendas\", \"Despesas\"])\n",
    "print(df_hstack)\n",
    "\n",
    "df_hstack.describe()"
   ]
  },
  {
   "cell_type": "markdown",
   "id": "02603b9b",
   "metadata": {},
   "source": [
    "##sumário estatístico:"
   ]
  },
  {
   "cell_type": "code",
   "execution_count": null,
   "id": "35eddcac",
   "metadata": {},
   "outputs": [
    {
     "name": "stdout",
     "output_type": "stream",
     "text": [
      "Sumário Estatístico:\n",
      "           Média  Mediana  Desvio Padrão\n",
      "Vendas    1880.0   1900.0         258.84\n",
      "Despesas   325.0    325.0          55.90\n"
     ]
    }
   ],
   "source": [
    "colunas_numericas = df.select_dtypes(include='number')\n",
    "\n",
    "# média\n",
    "media = colunas_numericas.mean()\n",
    "\n",
    "# mediana\n",
    "mediana = colunas_numericas.median()\n",
    "\n",
    "# desvio padrão\n",
    "desvio_padrao = colunas_numericas.std()\n",
    "\n",
    "\n",
    "# monta um dataframe com resultados\n",
    "resumo_estatistico = pd.DataFrame({\n",
    "    \"Média\": media,\n",
    "    \"Mediana\": mediana,\n",
    "    \"Desvio Padrão\": desvio_padrao\n",
    "}).round(2)\n",
    "\n",
    "print(\"Sumário Estatístico:\")\n",
    "print(resumo_estatistico)\n"
   ]
  }
 ],
 "metadata": {
  "kernelspec": {
   "display_name": "Python 3",
   "language": "python",
   "name": "python3"
  },
  "language_info": {
   "codemirror_mode": {
    "name": "ipython",
    "version": 3
   },
   "file_extension": ".py",
   "mimetype": "text/x-python",
   "name": "python",
   "nbconvert_exporter": "python",
   "pygments_lexer": "ipython3",
   "version": "3.13.3"
  }
 },
 "nbformat": 4,
 "nbformat_minor": 5
}
