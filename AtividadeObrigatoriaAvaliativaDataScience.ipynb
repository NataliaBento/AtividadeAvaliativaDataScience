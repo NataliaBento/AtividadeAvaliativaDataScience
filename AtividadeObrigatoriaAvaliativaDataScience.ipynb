{
 "cells": [
  {
   "cell_type": "markdown",
   "id": "ebbe2a96",
   "metadata": {},
   "source": [
    "# Desafio Obrigatório — Análise de Dados de Vendas\n",
    "\n",
    "Este notebook resolve o desafio obrigatório da disciplina de Data Science, conforme a apostila. O objetivo é realizar uma análise de vendas e despesas, tratando dados ausentes e aplicando funções estatísticas básicas.\n"
   ]
  },
  {
   "cell_type": "code",
   "execution_count": 5,
   "id": "3a45750e",
   "metadata": {},
   "outputs": [
    {
     "name": "stdout",
     "output_type": "stream",
     "text": [
      "Arquivo 'vendas.xlsx' criado com sucesso!\n"
     ]
    }
   ],
   "source": [
    "import pandas as pd\n",
    "import numpy as np\n",
    "\n",
    "\n",
    "dados = {\n",
    "    'Região': ['Norte', 'Norte', 'Sul', 'Sul', 'Norte'],\n",
    "    'Mês': ['Jan', 'Fev', 'Jan', 'Fev', 'Mar'],\n",
    "    'Vendas': [1500, np.nan, 2200, 1800, 2000],\n",
    "    'Despesas': [300, 250, np.nan, 400, 350]\n",
    "}\n",
    "\n",
    "\n",
    "df = pd.DataFrame(dados)\n",
    "df.to_excel(\"vendas.xlsx\", index=False)\n",
    "print(\"Arquivo 'vendas.xlsx' criado com sucesso!\")"
   ]
  },
  {
   "cell_type": "markdown",
   "id": "d3cc8bbe",
   "metadata": {},
   "source": [
    "## 2. Carregando e inspecionando os dados"
   ]
  },
  {
   "cell_type": "code",
   "execution_count": null,
   "id": "7e89c22b",
   "metadata": {},
   "outputs": [
    {
     "name": "stdout",
     "output_type": "stream",
     "text": [
      "📋 Dados carregados:\n",
      "  Região  Mês  Vendas  Despesas\n",
      "0  Norte  Jan  1500.0     300.0\n",
      "1  Norte  Fev     NaN     250.0\n",
      "2    Sul  Jan  2200.0       NaN\n",
      "3    Sul  Fev  1800.0     400.0\n",
      "4  Norte  Mar  2000.0     350.0\n"
     ]
    }
   ],
   "source": [
    "\n",
    "df = pd.read_excel(\"vendas.xlsx\")\n",
    "print(\"Dados carregados:\")\n",
    "print(df)"
   ]
  },
  {
   "cell_type": "markdown",
   "id": "56791ac4",
   "metadata": {},
   "source": [
    "## 3. Tratamento de valores ausentes"
   ]
  },
  {
   "cell_type": "code",
   "execution_count": 8,
   "id": "6b78c273",
   "metadata": {},
   "outputs": [
    {
     "name": "stdout",
     "output_type": "stream",
     "text": [
      "Dados após preenchimento dos valores ausentes:\n",
      "  Região  Mês  Vendas  Despesas\n",
      "0  Norte  Jan  1500.0     300.0\n",
      "1  Norte  Fev  1900.0     250.0\n",
      "2    Sul  Jan  2200.0     325.0\n",
      "3    Sul  Fev  1800.0     400.0\n",
      "4  Norte  Mar  2000.0     350.0\n"
     ]
    }
   ],
   "source": [
    "\n",
    "df['Vendas'] = df['Vendas'].fillna(df['Vendas'].median())\n",
    "\n",
    "\n",
    "df['Despesas'] = df['Despesas'].fillna(df['Despesas'].mean())\n",
    "\n",
    "print(\"Dados após preenchimento dos valores ausentes:\")\n",
    "print(df)"
   ]
  },
  {
   "cell_type": "markdown",
   "id": "4759630a",
   "metadata": {},
   "source": [
    "## 4. Agrupamento por Região e Mês"
   ]
  },
  {
   "cell_type": "code",
   "execution_count": 9,
   "id": "2c9986fc",
   "metadata": {},
   "outputs": [
    {
     "name": "stdout",
     "output_type": "stream",
     "text": [
      "Dados agrupados:\n",
      "  Região  Mês  Vendas  Despesas\n",
      "0  Norte  Fev  1900.0     250.0\n",
      "1  Norte  Jan  1500.0     300.0\n",
      "2  Norte  Mar  2000.0     350.0\n",
      "3    Sul  Fev  1800.0     400.0\n",
      "4    Sul  Jan  2200.0     325.0\n"
     ]
    }
   ],
   "source": [
    "\n",
    "agrupado = df.groupby(['Região', 'Mês']).agg({\n",
    "    'Vendas': 'sum',\n",
    "    'Despesas': 'mean'\n",
    "}).reset_index()\n",
    "\n",
    "print(\"Dados agrupados:\")\n",
    "print(agrupado)"
   ]
  },
  {
   "cell_type": "markdown",
   "id": "315cefa1",
   "metadata": {},
   "source": [
    "## 5. Combinação horizontal das colunas 'Vendas' e 'Despesas'"
   ]
  },
  {
   "cell_type": "code",
   "execution_count": 11,
   "id": "d0e5159d",
   "metadata": {},
   "outputs": [
    {
     "name": "stdout",
     "output_type": "stream",
     "text": [
      "Colunas combinadas (Vendas e Despesas):\n",
      "[[1500.  300.]\n",
      " [1900.  250.]\n",
      " [2200.  325.]\n",
      " [1800.  400.]\n",
      " [2000.  350.]]\n"
     ]
    }
   ],
   "source": [
    "\n",
    "vendas_despesas = np.hstack([df[['Vendas']], df[['Despesas']]])\n",
    "print(\"Colunas combinadas (Vendas e Despesas):\")\n",
    "print(vendas_despesas)"
   ]
  },
  {
   "cell_type": "markdown",
   "id": "0ba93ad1",
   "metadata": {},
   "source": [
    "## 6. Sumário estatístico dos dados numéricos"
   ]
  },
  {
   "cell_type": "code",
   "execution_count": 12,
   "id": "8dd4265c",
   "metadata": {},
   "outputs": [
    {
     "name": "stdout",
     "output_type": "stream",
     "text": [
      "Estatísticas descritivas:\n",
      "            Vendas    Despesas\n",
      "count     5.000000    5.000000\n",
      "mean   1880.000000  325.000000\n",
      "std     258.843582   55.901699\n",
      "min    1500.000000  250.000000\n",
      "25%    1800.000000  300.000000\n",
      "50%    1900.000000  325.000000\n",
      "75%    2000.000000  350.000000\n",
      "max    2200.000000  400.000000\n",
      "\n",
      " Medianas:\n",
      "Vendas      1900.0\n",
      "Despesas     325.0\n",
      "dtype: float64\n"
     ]
    }
   ],
   "source": [
    "\n",
    "estatisticas = df.describe()\n",
    "print(\"Estatísticas descritivas:\")\n",
    "print(estatisticas)\n",
    "\n",
    "# Mediana manual\n",
    "medianas = df.median(numeric_only=True)\n",
    "print(\"\\n Medianas:\")\n",
    "print(medianas)"
   ]
  }
 ],
 "metadata": {
  "kernelspec": {
   "display_name": "Python 3",
   "language": "python",
   "name": "python3"
  },
  "language_info": {
   "codemirror_mode": {
    "name": "ipython",
    "version": 3
   },
   "file_extension": ".py",
   "mimetype": "text/x-python",
   "name": "python",
   "nbconvert_exporter": "python",
   "pygments_lexer": "ipython3",
   "version": "3.13.3"
  }
 },
 "nbformat": 4,
 "nbformat_minor": 5
}
