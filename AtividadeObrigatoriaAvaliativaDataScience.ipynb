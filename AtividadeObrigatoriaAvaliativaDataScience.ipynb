{
 "cells": [
  {
   "cell_type": "markdown",
   "id": "ebbe2a96",
   "metadata": {},
   "source": [
    "# 📊 Desafio Obrigatório — Análise de Dados de Vendas\n",
    "\n",
    "Este notebook resolve o desafio obrigatório da disciplina de Data Science, conforme a apostila. O objetivo é realizar uma análise de vendas e despesas, tratando dados ausentes e aplicando funções estatísticas básicas.\n"
   ]
  },
  {
   "cell_type": "code",
   "execution_count": null,
   "id": "3a45750e",
   "metadata": {},
   "outputs": [],
   "source": [
    "import pandas as pd\n",
    "import numpy as np\n",
    "\n",
    "\n",
    "dados = {\n",
    "    'Região': ['Norte', 'Norte', 'Sul', 'Sul', 'Norte'],\n",
    "    'Mês': ['Jan', 'Fev', 'Jan', 'Fev', 'Mar'],\n",
    "    'Vendas': [1500, np.nan, 2200, 1800, 2000],\n",
    "    'Despesas': [300, 250, np.nan, 400, 350]\n",
    "}\n",
    "\n",
    "\n",
    "df = pd.DataFrame(dados)\n",
    "df.to_excel(\"vendas.xlsx\", index=False)\n",
    "print(\"Arquivo 'vendas.xlsx' criado com sucesso!\")"
   ]
  },
  {
   "cell_type": "markdown",
   "id": "d3cc8bbe",
   "metadata": {},
   "source": [
    "## 2. Carregando e inspecionando os dados"
   ]
  },
  {
   "cell_type": "code",
   "execution_count": null,
   "id": "7e89c22b",
   "metadata": {},
   "outputs": [],
   "source": [
    "\n",
    "df = pd.read_excel(\"vendas.xlsx\")\n",
    "print(\"📋 Dados carregados:\")\n",
    "print(df)"
   ]
  },
  {
   "cell_type": "markdown",
   "id": "56791ac4",
   "metadata": {},
   "source": [
    "## 3. Tratamento de valores ausentes"
   ]
  },
  {
   "cell_type": "code",
   "execution_count": null,
   "id": "6b78c273",
   "metadata": {},
   "outputs": [],
   "source": [
    "\n",
    "df['Vendas'] = df['Vendas'].fillna(df['Vendas'].median())\n",
    "\n",
    "\n",
    "df['Despesas'] = df['Despesas'].fillna(df['Despesas'].mean())\n",
    "\n",
    "print(\"📌 Dados após preenchimento dos valores ausentes:\")\n",
    "print(df)"
   ]
  },
  {
   "cell_type": "markdown",
   "id": "4759630a",
   "metadata": {},
   "source": [
    "## 4. Agrupamento por Região e Mês"
   ]
  },
  {
   "cell_type": "code",
   "execution_count": null,
   "id": "2c9986fc",
   "metadata": {},
   "outputs": [],
   "source": [
    "\n",
    "agrupado = df.groupby(['Região', 'Mês']).agg({\n",
    "    'Vendas': 'sum',\n",
    "    'Despesas': 'mean'\n",
    "}).reset_index()\n",
    "\n",
    "print(\"📊 Dados agrupados:\")\n",
    "print(agrupado)"
   ]
  },
  {
   "cell_type": "markdown",
   "id": "315cefa1",
   "metadata": {},
   "source": [
    "## 5. Combinação horizontal das colunas 'Vendas' e 'Despesas'"
   ]
  },
  {
   "cell_type": "code",
   "execution_count": null,
   "id": "d0e5159d",
   "metadata": {},
   "outputs": [],
   "source": [
    "\n",
    "vendas_despesas = np.hstack([df[['Vendas']], df[['Despesas']]])\n",
    "print(\"📎 Colunas combinadas (Vendas e Despesas):\")\n",
    "print(vendas_despesas)"
   ]
  },
  {
   "cell_type": "markdown",
   "id": "0ba93ad1",
   "metadata": {},
   "source": [
    "## 6. Sumário estatístico dos dados numéricos"
   ]
  },
  {
   "cell_type": "code",
   "execution_count": null,
   "id": "8dd4265c",
   "metadata": {},
   "outputs": [],
   "source": [
    "\n",
    "estatisticas = df.describe()\n",
    "print(\"📈 Estatísticas descritivas:\")\n",
    "print(estatisticas)\n",
    "\n",
    "# Mediana manual\n",
    "medianas = df.median(numeric_only=True)\n",
    "print(\"\\n🔢 Medianas:\")\n",
    "print(medianas)"
   ]
  }
 ],
 "metadata": {
  "kernelspec": {
   "display_name": "Python 3",
   "language": "python",
   "name": "python3"
  },
  "language_info": {
   "codemirror_mode": {
    "name": "ipython",
    "version": 3
   },
   "file_extension": ".py",
   "mimetype": "text/x-python",
   "name": "python",
   "nbconvert_exporter": "python",
   "pygments_lexer": "ipython3",
   "version": "3.13.3"
  }
 },
 "nbformat": 4,
 "nbformat_minor": 5
}
